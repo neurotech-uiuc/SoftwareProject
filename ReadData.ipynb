{
 "cells": [
  {
   "cell_type": "markdown",
   "metadata": {},
   "source": [
    "### Libraries"
   ]
  },
  {
   "cell_type": "code",
   "execution_count": 61,
   "metadata": {},
   "outputs": [],
   "source": [
    "import numpy as np\n",
    "import matplotlib.pyplot as plt\n",
    "# import pandas as pd\n",
    "import os"
   ]
  },
  {
   "cell_type": "code",
   "execution_count": 76,
   "metadata": {},
   "outputs": [],
   "source": [
    "dataLocation = \"Recordings/SoftwareProject/\"\n",
    "os.listdir(dataLocation)\n",
    "\n",
    "singleBlinkLoc = dataLocation + \"OpenBCISession_2020-04-25_15-29-52-eyeblink/\"\n",
    "singleBlinkLoc = singleBlinkLoc + os.listdir(singleBlinkLoc)[0]\n",
    "\n",
    "dataStartLine = 6"
   ]
  },
  {
   "cell_type": "markdown",
   "metadata": {},
   "source": [
    "#### reading single blink"
   ]
  },
  {
   "cell_type": "code",
   "execution_count": 86,
   "metadata": {
    "scrolled": true
   },
   "outputs": [],
   "source": [
    "singleBlinkRaw = []\n",
    "\n",
    "# Using readlines() \n",
    "\n",
    "count = 0\n",
    "for line in open(singleBlinkLoc, 'r').readlines(): \n",
    "    if count >= dataStartLine:\n",
    "#         print(line.strip().split(','))\n",
    "        singleBlinkRaw.append(line.strip().split(','))\n",
    "    else:\n",
    "        count += 1\n",
    "singleBlinkRaw = np.array(singleBlinkRaw)\n",
    "\n",
    "# with open(singlBlinkLoc) as f:\n",
    "#     singleBlinkRaw = np.array(f.read().splitlines()[dataStartLine:])"
   ]
  },
  {
   "cell_type": "code",
   "execution_count": 88,
   "metadata": {},
   "outputs": [
    {
     "data": {
      "text/plain": [
       "array(['0', ' 152.06', ' -265.02', ' 82.15', ' 10.12', ' 0.000', ' 0.000',\n",
       "       ' 0.000', ' 15:30:25.402', ' 1587846625402'], dtype='<U14')"
      ]
     },
     "execution_count": 88,
     "metadata": {},
     "output_type": "execute_result"
    }
   ],
   "source": [
    "singleBlinkRaw[0]"
   ]
  },
  {
   "cell_type": "markdown",
   "metadata": {},
   "source": [
    "#### Graphing the data"
   ]
  },
  {
   "cell_type": "markdown",
   "metadata": {},
   "source": [
    "#### Data Format:\n",
    "##### [index, channel1, channel2, channel3, channel4, X, X, X, Time, Voltage]"
   ]
  },
  {
   "cell_type": "code",
   "execution_count": 115,
   "metadata": {},
   "outputs": [],
   "source": [
    "# getting just the data channels recorded\n",
    "singleBlinkChannels = np.char.strip(singleBlinkRaw[:, 1:5])\n",
    "singleBlinkTime = np.char.strip(singleBlinkRaw[:, 8:9])"
   ]
  },
  {
   "cell_type": "markdown",
   "metadata": {},
   "source": [
    "#### plot the data"
   ]
  },
  {
   "cell_type": "code",
   "execution_count": null,
   "metadata": {},
   "outputs": [],
   "source": [
    "singleBli"
   ]
  }
 ],
 "metadata": {
  "kernelspec": {
   "display_name": "Python 3",
   "language": "python",
   "name": "python3"
  },
  "language_info": {
   "codemirror_mode": {
    "name": "ipython",
    "version": 3
   },
   "file_extension": ".py",
   "mimetype": "text/x-python",
   "name": "python",
   "nbconvert_exporter": "python",
   "pygments_lexer": "ipython3",
   "version": "3.7.4"
  }
 },
 "nbformat": 4,
 "nbformat_minor": 2
}
